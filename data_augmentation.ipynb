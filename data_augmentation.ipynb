{
 "cells": [
  {
   "cell_type": "code",
   "execution_count": 1,
   "id": "e71d46a7",
   "metadata": {},
   "outputs": [
    {
     "name": "stdout",
     "output_type": "stream",
     "text": [
      "Collecting imgaug\n",
      "  Using cached imgaug-0.4.0-py2.py3-none-any.whl (948 kB)\n",
      "Collecting opencv-python\n",
      "  Downloading opencv_python-4.7.0.68-cp37-abi3-win_amd64.whl (38.2 MB)\n",
      "     --------------------------------------- 38.2/38.2 MB 17.7 MB/s eta 0:00:00\n",
      "Collecting numpy>=1.15\n",
      "  Downloading numpy-1.24.2-cp310-cp310-win_amd64.whl (14.8 MB)\n",
      "     --------------------------------------- 14.8/14.8 MB 14.9 MB/s eta 0:00:00\n",
      "Collecting Pillow\n",
      "  Downloading Pillow-9.4.0-cp310-cp310-win_amd64.whl (2.5 MB)\n",
      "     ---------------------------------------- 2.5/2.5 MB 19.7 MB/s eta 0:00:00\n",
      "Collecting scipy\n",
      "  Downloading scipy-1.10.0-cp310-cp310-win_amd64.whl (42.5 MB)\n",
      "     --------------------------------------- 42.5/42.5 MB 15.2 MB/s eta 0:00:00\n",
      "Collecting matplotlib\n",
      "  Downloading matplotlib-3.6.3-cp310-cp310-win_amd64.whl (7.2 MB)\n",
      "     ---------------------------------------- 7.2/7.2 MB 20.0 MB/s eta 0:00:00\n",
      "Collecting Shapely\n",
      "  Downloading shapely-2.0.1-cp310-cp310-win_amd64.whl (1.4 MB)\n",
      "     ---------------------------------------- 1.4/1.4 MB 12.3 MB/s eta 0:00:00\n",
      "Requirement already satisfied: six in c:\\users\\gaspa\\appdata\\local\\programs\\python\\python310\\lib\\site-packages (from imgaug) (1.16.0)\n",
      "Collecting scikit-image>=0.14.2\n",
      "  Downloading scikit_image-0.19.3-cp310-cp310-win_amd64.whl (12.0 MB)\n",
      "     --------------------------------------- 12.0/12.0 MB 18.2 MB/s eta 0:00:00\n",
      "Collecting imageio\n",
      "  Downloading imageio-2.25.0-py3-none-any.whl (3.4 MB)\n",
      "     ---------------------------------------- 3.4/3.4 MB 19.5 MB/s eta 0:00:00\n",
      "Requirement already satisfied: packaging>=20.0 in c:\\users\\gaspa\\appdata\\local\\programs\\python\\python310\\lib\\site-packages (from scikit-image>=0.14.2->imgaug) (21.3)\n",
      "Collecting tifffile>=2019.7.26\n",
      "  Downloading tifffile-2023.2.3-py3-none-any.whl (215 kB)\n",
      "     -------------------------------------- 215.1/215.1 kB 6.6 MB/s eta 0:00:00\n",
      "Collecting PyWavelets>=1.1.1\n",
      "  Downloading PyWavelets-1.4.1-cp310-cp310-win_amd64.whl (4.2 MB)\n",
      "     ---------------------------------------- 4.2/4.2 MB 19.0 MB/s eta 0:00:00\n",
      "Collecting networkx>=2.2\n",
      "  Downloading networkx-3.0-py3-none-any.whl (2.0 MB)\n",
      "     ---------------------------------------- 2.0/2.0 MB 26.1 MB/s eta 0:00:00\n",
      "Requirement already satisfied: pyparsing>=2.2.1 in c:\\users\\gaspa\\appdata\\local\\programs\\python\\python310\\lib\\site-packages (from matplotlib->imgaug) (3.0.9)\n",
      "Collecting contourpy>=1.0.1\n",
      "  Downloading contourpy-1.0.7-cp310-cp310-win_amd64.whl (162 kB)\n",
      "     -------------------------------------- 163.0/163.0 kB 9.5 MB/s eta 0:00:00\n",
      "Collecting kiwisolver>=1.0.1\n",
      "  Downloading kiwisolver-1.4.4-cp310-cp310-win_amd64.whl (55 kB)\n",
      "     ---------------------------------------- 55.3/55.3 kB ? eta 0:00:00\n",
      "Collecting fonttools>=4.22.0\n",
      "  Downloading fonttools-4.38.0-py3-none-any.whl (965 kB)\n",
      "     ------------------------------------- 965.4/965.4 kB 30.8 MB/s eta 0:00:00\n",
      "Requirement already satisfied: python-dateutil>=2.7 in c:\\users\\gaspa\\appdata\\local\\programs\\python\\python310\\lib\\site-packages (from matplotlib->imgaug) (2.8.2)\n",
      "Collecting cycler>=0.10\n",
      "  Downloading cycler-0.11.0-py3-none-any.whl (6.4 kB)\n",
      "Installing collected packages: Pillow, numpy, networkx, kiwisolver, fonttools, cycler, tifffile, Shapely, scipy, PyWavelets, opencv-python, imageio, contourpy, scikit-image, matplotlib, imgaug\n",
      "Successfully installed Pillow-9.4.0 PyWavelets-1.4.1 Shapely-2.0.1 contourpy-1.0.7 cycler-0.11.0 fonttools-4.38.0 imageio-2.25.0 imgaug-0.4.0 kiwisolver-1.4.4 matplotlib-3.6.3 networkx-3.0 numpy-1.24.2 opencv-python-4.7.0.68 scikit-image-0.19.3 scipy-1.10.0 tifffile-2023.2.3\n",
      "Note: you may need to restart the kernel to use updated packages.\n"
     ]
    },
    {
     "name": "stderr",
     "output_type": "stream",
     "text": [
      "\n",
      "[notice] A new release of pip available: 22.3.1 -> 23.0\n",
      "[notice] To update, run: python.exe -m pip install --upgrade pip\n"
     ]
    }
   ],
   "source": [
    "pip install imgaug"
   ]
  },
  {
   "cell_type": "code",
   "execution_count": 4,
   "id": "ab2b2813",
   "metadata": {},
   "outputs": [],
   "source": [
    "import imageio\n",
    "import imgaug as ia\n",
    "from imgaug import augmenters as iaa\n",
    "import os"
   ]
  },
  {
   "cell_type": "code",
   "execution_count": 6,
   "id": "d16e25af",
   "metadata": {},
   "outputs": [
    {
     "name": "stderr",
     "output_type": "stream",
     "text": [
      "C:\\Users\\gaspa\\AppData\\Local\\Temp\\ipykernel_1636\\225728041.py:16: DeprecationWarning: Starting with ImageIO v3 the behavior of this function will switch to that of iio.v3.imread. To keep the current behavior (and make this warning disappear) use `import imageio.v2 as imageio` or call `imageio.v2.imread` directly.\n",
      "  image = imageio.imread(os.path.join(folder_path, filename))\n"
     ]
    }
   ],
   "source": [
    "folder_path = r\"C:\\Users\\gaspa\\Downloads\\depot_nature\" # replace with the path to your folder\n",
    "\n",
    "# Define the augmentations to perform\n",
    "seq = iaa.Sequential([\n",
    "    iaa.Flipud(), # flip images vertically\n",
    "    iaa.Affine(rotate=(-45, 45)), # rotate images by up to 45 degrees\n",
    "    iaa.AdditiveGaussianNoise(scale=(0, 0.1*255)), # add noise to images\n",
    "    iaa.Multiply((0.5, 1.5)) # change image brightness\n",
    "])\n",
    "\n",
    "# Iterate through all images in the folder\n",
    "for filename in os.listdir(folder_path):\n",
    "    # Only operate on image files (not directories)\n",
    "    if not os.path.isdir(filename):\n",
    "        # Load the image\n",
    "        image = imageio.imread(os.path.join(folder_path, filename))\n",
    "        # Perform augmentations\n",
    "        augmented_image = seq.augment_image(image)\n",
    "        # Save the augmented image\n",
    "        imageio.imwrite(os.path.join(folder_path, \"augmented_\"+filename), augmented_image)\n",
    "\n",
    "\n"
   ]
  },
  {
   "cell_type": "code",
   "execution_count": null,
   "id": "a0ddf88b",
   "metadata": {},
   "outputs": [],
   "source": []
  }
 ],
 "metadata": {
  "kernelspec": {
   "display_name": "Python 3",
   "language": "python",
   "name": "python3"
  },
  "language_info": {
   "codemirror_mode": {
    "name": "ipython",
    "version": 3
   },
   "file_extension": ".py",
   "mimetype": "text/x-python",
   "name": "python",
   "nbconvert_exporter": "python",
   "pygments_lexer": "ipython3",
   "version": "3.10.0"
  },
  "vscode": {
   "interpreter": {
    "hash": "53bdaf3e29708bc7bd0d80837e40a4e4351b098c4e4188c559773bf7015563e6"
   }
  }
 },
 "nbformat": 4,
 "nbformat_minor": 5
}
